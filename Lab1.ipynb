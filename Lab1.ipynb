{
  "nbformat": 4,
  "nbformat_minor": 0,
  "metadata": {
    "colab": {
      "name": "Lab1.ipynb",
      "provenance": [],
      "authorship_tag": "ABX9TyP3/P6RjYRL9h8WZZNiCtvQ",
      "include_colab_link": true
    },
    "kernelspec": {
      "name": "python3",
      "display_name": "Python 3"
    },
    "language_info": {
      "name": "python"
    }
  },
  "cells": [
    {
      "cell_type": "markdown",
      "metadata": {
        "id": "view-in-github",
        "colab_type": "text"
      },
      "source": [
        "<a href=\"https://colab.research.google.com/github/Temploo/CPEN-21A-ECE-2-3/blob/main/Lab1.ipynb\" target=\"_parent\"><img src=\"https://colab.research.google.com/assets/colab-badge.svg\" alt=\"Open In Colab\"/></a>"
      ]
    },
    {
      "cell_type": "markdown",
      "metadata": {
        "id": "8JAgtuZtnIGT"
      },
      "source": [
        "###\"Laboratory 1\""
      ]
    },
    {
      "cell_type": "code",
      "metadata": {
        "colab": {
          "base_uri": "https://localhost:8080/"
        },
        "id": "MkkNT7gzh_Xb",
        "outputId": "fc2dd46d-e605-413b-f091-10c851cc59a1"
      },
      "source": [
        "L = \"Welcome to Python Programming\"\n",
        "print(L)"
      ],
      "execution_count": 10,
      "outputs": [
        {
          "output_type": "stream",
          "name": "stdout",
          "text": [
            "Welcome to Python Programming\n"
          ]
        }
      ]
    },
    {
      "cell_type": "code",
      "metadata": {
        "colab": {
          "base_uri": "https://localhost:8080/"
        },
        "id": "06dgQJsAl78i",
        "outputId": "21a8400d-773d-4582-b27c-55d7c3b3d221"
      },
      "source": [
        "U = \"Templo, Albert R.\"\n",
        "print(U)"
      ],
      "execution_count": 7,
      "outputs": [
        {
          "output_type": "stream",
          "name": "stdout",
          "text": [
            "Templo, Albert R.\n"
          ]
        }
      ]
    },
    {
      "cell_type": "code",
      "metadata": {
        "colab": {
          "base_uri": "https://localhost:8080/"
        },
        "id": "sDezpZAtmTc4",
        "outputId": "60b970f7-7ef5-47d4-d0a6-da703a7b227f"
      },
      "source": [
        "N = \"Southville phase 1 expansion Brgy. Inocencio, Trece Martires city Cavite\"\n",
        "print(N)"
      ],
      "execution_count": 12,
      "outputs": [
        {
          "output_type": "stream",
          "name": "stdout",
          "text": [
            "Southville phase 1 expansion Brgy. Inocencio, Trece Martires city Cavite\n"
          ]
        }
      ]
    },
    {
      "cell_type": "code",
      "metadata": {
        "colab": {
          "base_uri": "https://localhost:8080/"
        },
        "id": "KgySF1zmmnun",
        "outputId": "da76ea02-1a3f-4e72-c38f-bbf3ba666be3"
      },
      "source": [
        "A = \"21 Years old\"\n",
        "print(A)"
      ],
      "execution_count": 9,
      "outputs": [
        {
          "output_type": "stream",
          "name": "stdout",
          "text": [
            "21 Years old\n"
          ]
        }
      ]
    }
  ]
}