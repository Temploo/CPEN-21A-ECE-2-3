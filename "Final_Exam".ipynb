{
  "nbformat": 4,
  "nbformat_minor": 0,
  "metadata": {
    "colab": {
      "name": "\"Final_Exam\".ipynb",
      "provenance": [],
      "authorship_tag": "ABX9TyOZoetGR6kPQuc47u1TXtaM",
      "include_colab_link": true
    },
    "kernelspec": {
      "name": "python3",
      "display_name": "Python 3"
    },
    "language_info": {
      "name": "python"
    }
  },
  "cells": [
    {
      "cell_type": "markdown",
      "metadata": {
        "id": "view-in-github",
        "colab_type": "text"
      },
      "source": [
        "<a href=\"https://colab.research.google.com/github/Temploo/CPEN-21A-ECE-2-3/blob/main/%22Final_Exam%22.ipynb\" target=\"_parent\"><img src=\"https://colab.research.google.com/assets/colab-badge.svg\" alt=\"Open In Colab\"/></a>"
      ]
    },
    {
      "cell_type": "markdown",
      "source": [
        "#Problem Statement 1. #Create a ython program that will produce an output of sum of 10 numbers less than 5 using for loop statement."
      ],
      "metadata": {
        "id": "DHv9AY09abA4"
      }
    },
    {
      "cell_type": "code",
      "source": [
        "sum=0\n",
        "number=(-5,-4,-3,-2,-1,0,1,2,3,4)\n",
        "for x in number:\n",
        "  sum=sum+x\n",
        "print(\"Sum of 10 numbers less than 5 is:\",sum)"
      ],
      "metadata": {
        "colab": {
          "base_uri": "https://localhost:8080/"
        },
        "id": "veMC50OqeCzS",
        "outputId": "5e3f9593-e496-4fe4-ab21-913a7b3a0e7a"
      },
      "execution_count": null,
      "outputs": [
        {
          "output_type": "stream",
          "name": "stdout",
          "text": [
            "Sum of 10 numbers less than 5 is: -5\n"
          ]
        }
      ]
    },
    {
      "cell_type": "markdown",
      "source": [
        "#Problem Statement 2. Create a python program that will produce accept five numbers and determine the sum of first and last number among the five numver entered usng while loop"
      ],
      "metadata": {
        "id": "U9WrkVEKgB7m"
      }
    },
    {
      "cell_type": "code",
      "source": [
        "w=int(input())\n",
        "y=w+35\n",
        "g=w+28\n",
        "h=w\n",
        "while w<y:\n",
        " print(w)\n",
        " w+=7\n",
        " \n",
        " print(\"The sum of first and last numver is\",g+h)"
      ],
      "metadata": {
        "colab": {
          "base_uri": "https://localhost:8080/"
        },
        "id": "SnwPOghpms5I",
        "outputId": "918e0cf2-e9c6-4c3d-baff-b8538244b3cc"
      },
      "execution_count": null,
      "outputs": [
        {
          "output_type": "stream",
          "name": "stdout",
          "text": [
            "8\n",
            "8\n",
            "The sum of first and last numver is 44\n",
            "15\n",
            "The sum of first and last numver is 44\n",
            "22\n",
            "The sum of first and last numver is 44\n",
            "29\n",
            "The sum of first and last numver is 44\n",
            "36\n",
            "The sum of first and last numver is 44\n"
          ]
        }
      ]
    },
    {
      "cell_type": "markdown",
      "source": [
        "##Problem Statement 3. Create a Python program to calculate student grades. It accepts a numerical grade as input\n",
        "and it will display the character grade as output based on the given scale: (Use Nested-IF-Else statement).\n",
        "\n",
        "\n",
        "\n"
      ],
      "metadata": {
        "id": "sfEysvGZcgsv"
      }
    },
    {
      "cell_type": "code",
      "source": [
        "grade=float(input(\"Enter your grade \"))\n",
        "if grade>=90:\n",
        "  print(\"A\")\n",
        "elif 80<=grade<90:\n",
        "  print(\"B\")\n",
        "elif 70<=grade<80:\n",
        "  print(\"C\")\n",
        "elif 60<=grade<70:\n",
        "  print(\"D\")\n",
        "else:\n",
        "  print(\"E\")"
      ],
      "metadata": {
        "colab": {
          "base_uri": "https://localhost:8080/"
        },
        "id": "qe8-AsynpNYm",
        "outputId": "4ef1ce79-caf3-4119-ad0a-b7c309ed3e80"
      },
      "execution_count": 230,
      "outputs": [
        {
          "output_type": "stream",
          "name": "stdout",
          "text": [
            "Enter your grade 86.31\n",
            "B\n"
          ]
        }
      ]
    },
    {
      "cell_type": "code",
      "source": [
        "grade=int(input(\"Enter your grade\"))\n",
        "if grade>=90:\n",
        "  print(\"A\")\n",
        "elif 80<=grade<90:\n",
        "  print(\"B\")\n",
        "elif 70<=grade<80:\n",
        "  print(\"C\")\n",
        "elif 60<=grade<70:\n",
        "  print(\"D\")\n",
        "else:\n",
        "  print(\"E\")"
      ],
      "metadata": {
        "id": "nuWHFSbXchvx",
        "colab": {
          "base_uri": "https://localhost:8080/"
        },
        "outputId": "4e7f5cbf-ad47-4b0a-90e0-c8555fd10352"
      },
      "execution_count": null,
      "outputs": [
        {
          "output_type": "stream",
          "name": "stdout",
          "text": [
            "Enter your grade87\n",
            "B\n"
          ]
        }
      ]
    }
  ]
}